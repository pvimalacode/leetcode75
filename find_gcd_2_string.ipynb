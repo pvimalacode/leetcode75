{
 "cells": [
  {
   "cell_type": "markdown",
   "id": "25d5a0cb",
   "metadata": {},
   "source": [
    "https://leetcode.com/problems/greatest-common-divisor-of-strings/description/?envType=study-plan-v2&envId=leetcode-75"
   ]
  },
  {
   "cell_type": "markdown",
   "id": "d898a2bd",
   "metadata": {},
   "source": [
    "# 1071. Greatest Common Divisor of Strings\n",
    "\n",
    "**Difficulty:** Easy  \n",
    "**Topics:** —  \n",
    "**Companies:** Premium  \n",
    "\n",
    "---\n",
    "\n",
    "## Problem\n",
    "\n",
    "For two strings `str1` and `str2`, we say \"`t` divides `s`\" if and only if:\n",
    "\n",
    "\n",
    "Given two strings `str1` and `str2`, return the **largest string `x`** such that `x` divides both `str1` and `str2`.\n",
    "\n",
    "---\n",
    "\n",
    "## Examples\n",
    "\n",
    "**Example 1**  \n",
    "**Input:**  \n",
    "```python\n",
    "str1 = \"ABCABC\"\n",
    "str2 = \"ABC\"\n",
    "\"ABC\"\n",
    "\n",
    "str1 = \"ABABAB\"\n",
    "str2 = \"ABAB\"\n",
    "\"AB\"\n",
    "\n",
    "str1 = \"LEET\"\n",
    "str2 = \"CODE\"\n",
    "\"\"\n"
   ]
  },
  {
   "cell_type": "code",
   "execution_count": 2,
   "id": "5ce1efeb",
   "metadata": {},
   "outputs": [],
   "source": [
    "class Solution:\n",
    "    def gcdOfStrings(self, str1: str, str2: str) -> str:\n",
    "\n",
    "\n",
    "        if str1 == str2:\n",
    "            return str1\n",
    "        \n",
    "        if len(str1) < len(str2):\n",
    "            str1,str2 = str2,str1\n",
    "        \n",
    "        l = len(str2)\n",
    "\n",
    "        if str2 == str1[:l]:\n",
    "            return self.gcdOfStrings(str1[l:],str2)\n",
    "        else:\n",
    "            return \" \"\n",
    "\n"
   ]
  },
  {
   "cell_type": "code",
   "execution_count": 3,
   "id": "b9212cf7",
   "metadata": {},
   "outputs": [
    {
     "data": {
      "text/plain": [
       "'ab'"
      ]
     },
     "execution_count": 3,
     "metadata": {},
     "output_type": "execute_result"
    }
   ],
   "source": [
    "test = Solution()\n",
    "test.gcdOfStrings('ababab','abab')\n"
   ]
  }
 ],
 "metadata": {
  "kernelspec": {
   "display_name": "Python 3",
   "language": "python",
   "name": "python3"
  },
  "language_info": {
   "codemirror_mode": {
    "name": "ipython",
    "version": 3
   },
   "file_extension": ".py",
   "mimetype": "text/x-python",
   "name": "python",
   "nbconvert_exporter": "python",
   "pygments_lexer": "ipython3",
   "version": "3.10.4"
  }
 },
 "nbformat": 4,
 "nbformat_minor": 5
}
