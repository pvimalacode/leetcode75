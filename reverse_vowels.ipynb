{
 "cells": [
  {
   "cell_type": "markdown",
   "id": "28e5d2e9",
   "metadata": {},
   "source": [
    "#### 345. Reverse Vowels of a String\n",
    "\n",
    "Topics\n",
    "premium lock icon\n",
    "Companies\n",
    "Given a string s, reverse only all the vowels in the string and return it.\n",
    "\n",
    "The vowels are 'a', 'e', 'i', 'o', and 'u', and they can appear in both lower and upper cases, more than once.\n",
    "\n",
    " \n",
    "\n",
    "<b>Example 1:</b>\n",
    "\n",
    "Input: s = \"IceCreAm\"\n",
    "\n",
    "Output: \"AceCreIm\"\n",
    "\n",
    "<b>Explanation:</b>\n",
    "\n",
    "The vowels in s are ['I', 'e', 'e', 'A']. On reversing the vowels, s becomes \"AceCreIm\".\n",
    "\n",
    "<b>Example 2:</b>\n",
    "\n",
    "Input: s = \"leetcode\"\n",
    "\n",
    "Output: \"leotcede\"\n",
    "\n",
    " \n",
    "\n",
    "<b>Constraints:</b>\n",
    "\n",
    "1 <= s.length <= 3 * 105\n",
    "s consist of printable ASCII characters."
   ]
  },
  {
   "cell_type": "markdown",
   "id": "8f15dc5b",
   "metadata": {},
   "source": [
    "https://leetcode.com/problems/reverse-vowels-of-a-string/description/?envType=study-plan-v2&envId=leetcode-75"
   ]
  },
  {
   "cell_type": "code",
   "execution_count": 6,
   "id": "a7abc481",
   "metadata": {},
   "outputs": [],
   "source": [
    "from typing import List\n",
    "class Solution:\n",
    "    def reverseVowels(self, s: str) -> str:\n",
    "        l = 0\n",
    "        r = len(s)-1\n",
    "\n",
    "        word = list(s)\n",
    "        X, Y = 0,0\n",
    "        while l < r:\n",
    "            x = word[l].lower()\n",
    "            # print(r)\n",
    "            y = word[r].lower()\n",
    "            if x == 'a' or x == 'e' or x == 'i' or x=='o' or x=='u':\n",
    "                X = 1\n",
    "            else:\n",
    "                l += 1\n",
    "                \n",
    "            if y == 'a' or y == 'e' or y == 'i' or y=='o' or y=='u':\n",
    "                Y = 1\n",
    "            else:\n",
    "                r -= 1\n",
    "\n",
    "            if X and Y:\n",
    "                word [l],word[r] = word[r],word[l]\n",
    "                X,Y = 0,0\n",
    "                l += 1\n",
    "                r -= 1\n",
    "            \n",
    "        return ''.join(word)\n",
    "                \n",
    "        "
   ]
  },
  {
   "cell_type": "code",
   "execution_count": 9,
   "id": "402591af",
   "metadata": {},
   "outputs": [
    {
     "name": "stdout",
     "output_type": "stream",
     "text": [
      "amCAT\n"
     ]
    },
    {
     "data": {
      "text/plain": [
       "'olDAN'"
      ]
     },
     "execution_count": 9,
     "metadata": {},
     "output_type": "execute_result"
    }
   ],
   "source": [
    "que = Solution()\n",
    "print(que.reverseVowels('AmCaT'))\n",
    "que.reverseVowels('AlDoN')"
   ]
  }
 ],
 "metadata": {
  "kernelspec": {
   "display_name": "Python 3",
   "language": "python",
   "name": "python3"
  },
  "language_info": {
   "codemirror_mode": {
    "name": "ipython",
    "version": 3
   },
   "file_extension": ".py",
   "mimetype": "text/x-python",
   "name": "python",
   "nbconvert_exporter": "python",
   "pygments_lexer": "ipython3",
   "version": "3.10.4"
  }
 },
 "nbformat": 4,
 "nbformat_minor": 5
}
