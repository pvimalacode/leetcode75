{
 "cells": [
  {
   "cell_type": "markdown",
   "id": "36aefb1d",
   "metadata": {},
   "source": [
    "### 605. Can Place Flowers\n",
    "Solved\n",
    "Easy\n",
    "Topics\n",
    "premium lock icon\n",
    "Companies\n",
    "You have a long flowerbed in which some of the plots are planted, and some are not. However, flowers cannot be planted in adjacent plots.\n",
    "\n",
    "Given an integer array flowerbed containing 0's and 1's, where 0 means empty and 1 means not empty, and an integer n, return true if n new flowers can be planted in the flowerbed without violating the no-adjacent-flowers rule and false otherwise.\n",
    "\n",
    " "
   ]
  },
  {
   "cell_type": "markdown",
   "id": "29afcc56",
   "metadata": {},
   "source": [
    "<b> Example 1:</b>\n",
    "\n",
    "Input: flowerbed = [1,0,0,0,1], n = 1\n",
    "Output: true\n",
    "Example 2:\n",
    "\n",
    "Input: flowerbed = [1,0,0,0,1], n = 2\n",
    "Output: false"
   ]
  },
  {
   "cell_type": "markdown",
   "id": "a315127f",
   "metadata": {},
   "source": [
    "<b>Constraints:</b>\n",
    "\n",
    "1 <= flowerbed.length <= 2 * 104\n",
    "flowerbed[i] is 0 or 1.\n",
    "There are no two adjacent flowers in flowerbed.\n",
    "0 <= n <= flowerbed.length"
   ]
  },
  {
   "cell_type": "code",
   "execution_count": 7,
   "id": "40f328cc",
   "metadata": {},
   "outputs": [],
   "source": [
    "from typing import List\n",
    "class Solution:\n",
    "    def canPlaceFlowers(self, flowerbed: List[int], n: int) -> bool:\n",
    "\n",
    "        i = 0\n",
    "        l = len(flowerbed) \n",
    "\n",
    "        if l == 1 :\n",
    "            i = 2 \n",
    "\n",
    "            if not flowerbed[0]:\n",
    "                if n: \n",
    "                    n -= 1\n",
    "                    return True if not n else False\n",
    "            \n",
    "            \n",
    "        \n",
    "        while i < l:\n",
    "            if i == 0 and flowerbed[i+1] == 0 and flowerbed[i]==0:\n",
    "                flowerbed[i] = 1\n",
    "                if n : n -= 1\n",
    "                \n",
    "            elif i == l-1 and flowerbed[i]==0 and flowerbed[i-1] ==0:\n",
    "                flowerbed[i] = 1\n",
    "                if n : n -= 1\n",
    "            elif flowerbed[i-1] == 0 and flowerbed[i]==0 and flowerbed[i+1] ==0:\n",
    "                flowerbed[i] = 1\n",
    "                if n : n -= 1\n",
    "            # return True if not n else i += 1 \n",
    "            if n == 0: \n",
    "                return True\n",
    "            i += 1\n",
    "            \n",
    "        return False if n else True "
   ]
  },
  {
   "cell_type": "code",
   "execution_count": 9,
   "id": "122963ec",
   "metadata": {},
   "outputs": [
    {
     "data": {
      "text/plain": [
       "False"
      ]
     },
     "execution_count": 9,
     "metadata": {},
     "output_type": "execute_result"
    }
   ],
   "source": [
    "que = Solution()\n",
    "que.canPlaceFlowers([1],1)"
   ]
  },
  {
   "cell_type": "code",
   "execution_count": null,
   "id": "e60860c1",
   "metadata": {},
   "outputs": [],
   "source": []
  }
 ],
 "metadata": {
  "kernelspec": {
   "display_name": "Python 3",
   "language": "python",
   "name": "python3"
  },
  "language_info": {
   "codemirror_mode": {
    "name": "ipython",
    "version": 3
   },
   "file_extension": ".py",
   "mimetype": "text/x-python",
   "name": "python",
   "nbconvert_exporter": "python",
   "pygments_lexer": "ipython3",
   "version": "3.10.4"
  }
 },
 "nbformat": 4,
 "nbformat_minor": 5
}
