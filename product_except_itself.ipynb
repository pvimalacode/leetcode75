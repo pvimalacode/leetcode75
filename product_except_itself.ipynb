{
 "cells": [
  {
   "cell_type": "markdown",
   "id": "874a1ccd",
   "metadata": {},
   "source": [
    "<b>238. Product of Array Except Self</b>\n",
    "\n",
    "Given an integer array nums, return an array answer such that answer[i] is equal to the product of all the elements of nums except nums[i].\n",
    "\n",
    "The product of any prefix or suffix of nums is guaranteed to fit in a 32-bit integer.\n",
    "\n",
    "You must write an algorithm that runs in O(n) time and without using the division operation.\n",
    "\n",
    " \n",
    "\n",
    "<b>Example 1:</b>\n",
    "\n",
    "Input: nums = [1,2,3,4]\n",
    "Output: [24,12,8,6]\n",
    "<b>Example 2:</b>\n",
    "\n",
    "Input: nums = [-1,1,0,-3,3]\n",
    "Output: [0,0,9,0,0]\n",
    " \n",
    "\n",
    "<b>Constraints:</b>\n",
    "\n",
    "2 <= nums.length <= 105\n",
    "-30 <= nums[i] <= 30\n",
    "The input is generated such that answer[i] is guaranteed to fit in a 32-bit integer.\n",
    " \n",
    "\n",
    "<b>Follow up:</b> Can you solve the problem in O(1) extra space complexity? (The output array does not count as extra space for space complexity analysis.)"
   ]
  },
  {
   "cell_type": "code",
   "execution_count": 2,
   "id": "339c0ba9",
   "metadata": {},
   "outputs": [],
   "source": [
    "from typing import List\n",
    "class Solution:\n",
    "    def productExceptSelf(self, nums: List[int]) -> List[int]:\n",
    "\n",
    "        p = 1\n",
    "        i = 0\n",
    "        l =len(nums)\n",
    "        r = []\n",
    "\n",
    "        while i < l:\n",
    "            r += [p]\n",
    "            p *=nums[i]\n",
    "            i += 1\n",
    "       \n",
    "\n",
    "        p = 1\n",
    "        i -= 1\n",
    "\n",
    "        while i >= 0:\n",
    "           \n",
    "            r[i] *= p\n",
    "            p *= nums[i]\n",
    "            i -= 1\n",
    "       \n",
    "        return r   "
   ]
  },
  {
   "cell_type": "code",
   "execution_count": 3,
   "id": "26e8c357",
   "metadata": {},
   "outputs": [
    {
     "data": {
      "text/plain": [
       "[112, 48, 168, 42]"
      ]
     },
     "execution_count": 3,
     "metadata": {},
     "output_type": "execute_result"
    }
   ],
   "source": [
    "que = Solution()\n",
    "que.productExceptSelf([3,7,2,8])"
   ]
  }
 ],
 "metadata": {
  "kernelspec": {
   "display_name": "Python 3",
   "language": "python",
   "name": "python3"
  },
  "language_info": {
   "codemirror_mode": {
    "name": "ipython",
    "version": 3
   },
   "file_extension": ".py",
   "mimetype": "text/x-python",
   "name": "python",
   "nbconvert_exporter": "python",
   "pygments_lexer": "ipython3",
   "version": "3.10.4"
  }
 },
 "nbformat": 4,
 "nbformat_minor": 5
}
