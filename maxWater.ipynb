{
 "cells": [
  {
   "cell_type": "markdown",
   "id": "94855f45",
   "metadata": {},
   "source": [
    "You are given an integer array height of length n. There are n vertical lines drawn such that the two endpoints of the ith line are (i, 0) and (i, height[i]).\n",
    "\n",
    "Find two lines that together with the x-axis form a container, such that the container contains the most water.\n",
    "\n",
    "Return the maximum amount of water a container can store.\n",
    "\n",
    "Notice that you may not slant the container.\n",
    "\n",
    " \n",
    "\n",
    "<b>Example 1:</b>\n",
    "\n",
    "\n",
    "Input: height = [1,8,6,2,5,4,8,3,7]\n",
    "Output: 49\n",
    "Explanation: The above vertical lines are represented by array [1,8,6,2,5,4,8,3,7]. In this case, the max area of water (blue section) the container can contain is 49.\n",
    "\n",
    "<b>Example 2:</b>\n",
    "\n",
    "Input: height = [1,1]\n",
    "Output: 1\n",
    " \n",
    "\n",
    "<b>Constraints:</b>\n",
    "\n",
    "n == height.length\n",
    "2 <= n <= 105\n",
    "0 <= height[i] <= 104"
   ]
  },
  {
   "cell_type": "code",
   "execution_count": 4,
   "id": "ea484ba8",
   "metadata": {},
   "outputs": [],
   "source": [
    "from typing import List\n",
    "\n",
    "class Solution:\n",
    "    def maxArea(self, height: List[int]) -> int:\n",
    "\n",
    "        i = 0\n",
    "        j = len(height)-1\n",
    "        area = float(\"-inf\")\n",
    "\n",
    "        while i <= j:\n",
    "            temp = min(height[i],height[j])*(j-i)\n",
    "            # print(temp)\n",
    "            if temp > area:\n",
    "                area = temp\n",
    "            if height[i] > height[j]:\n",
    "                j -=1\n",
    "            else: i += 1\n",
    "        return area\n",
    "            \n",
    "\n",
    "    "
   ]
  },
  {
   "cell_type": "code",
   "execution_count": 5,
   "id": "4498489f",
   "metadata": {},
   "outputs": [
    {
     "data": {
      "text/plain": [
       "49"
      ]
     },
     "execution_count": 5,
     "metadata": {},
     "output_type": "execute_result"
    }
   ],
   "source": [
    "que= Solution()\n",
    "que.maxArea([1,8,6,2,5,4,8,3,7])"
   ]
  }
 ],
 "metadata": {
  "kernelspec": {
   "display_name": "Python 3",
   "language": "python",
   "name": "python3"
  },
  "language_info": {
   "codemirror_mode": {
    "name": "ipython",
    "version": 3
   },
   "file_extension": ".py",
   "mimetype": "text/x-python",
   "name": "python",
   "nbconvert_exporter": "python",
   "pygments_lexer": "ipython3",
   "version": "3.10.4"
  }
 },
 "nbformat": 4,
 "nbformat_minor": 5
}
