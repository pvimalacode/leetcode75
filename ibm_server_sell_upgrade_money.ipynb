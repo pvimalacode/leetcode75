{
 "cells": [
  {
   "cell_type": "code",
   "execution_count": 1,
   "id": "d1c89d58",
   "metadata": {},
   "outputs": [],
   "source": [
    "%reset -f"
   ]
  },
  {
   "cell_type": "markdown",
   "id": "bac53499",
   "metadata": {},
   "source": [
    "find how many servers can be upgraded\n",
    "if you cannot then sell one server"
   ]
  },
  {
   "cell_type": "code",
   "execution_count": 14,
   "id": "0678d5b9",
   "metadata": {},
   "outputs": [
    {
     "name": "stdout",
     "output_type": "stream",
     "text": [
      "[9, 3]\n"
     ]
    }
   ],
   "source": [
    "server = [12,4]\n",
    "money =[12,4]\n",
    "upgrade = [2,2]\n",
    "sell =[2,2]\n",
    "\n",
    "i =0\n",
    "op = []\n",
    "while i < len(server):\n",
    "    # print(server[i]*upgrade[i], money[i])\n",
    "    while server[i]*upgrade[i] > money[i]:\n",
    "        server[i] -= 1\n",
    "        # print(server[i])\n",
    "        money[i] +=sell[i]\n",
    "    # print(server[i]*upgrade[i], money[i])\n",
    "    if server[i]*upgrade[i] <= money[i]:\n",
    "        op += [server[i]]\n",
    "    else:\n",
    "        op += [0]\n",
    "\n",
    "    i += 1\n",
    "print (op)"
   ]
  },
  {
   "cell_type": "code",
   "execution_count": null,
   "id": "c558b648",
   "metadata": {},
   "outputs": [],
   "source": []
  }
 ],
 "metadata": {
  "kernelspec": {
   "display_name": "Python 3",
   "language": "python",
   "name": "python3"
  },
  "language_info": {
   "codemirror_mode": {
    "name": "ipython",
    "version": 3
   },
   "file_extension": ".py",
   "mimetype": "text/x-python",
   "name": "python",
   "nbconvert_exporter": "python",
   "pygments_lexer": "ipython3",
   "version": "3.10.4"
  }
 },
 "nbformat": 4,
 "nbformat_minor": 5
}
