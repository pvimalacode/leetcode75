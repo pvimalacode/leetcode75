{
 "cells": [
  {
   "cell_type": "markdown",
   "id": "f16ee45a",
   "metadata": {},
   "source": [
    "<b>151. Reverse Words in a String</b>\n",
    "\n",
    "Given an input string s, reverse the order of the words.\n",
    "\n",
    "A word is defined as a sequence of non-space characters. The words in s will be separated by at least one space.\n",
    "\n",
    "Return a string of the words in reverse order concatenated by a single space.\n",
    "\n",
    "Note that s may contain leading or trailing spaces or multiple spaces between two words. The returned string should only have a single space separating the words. Do not include any extra spaces.\n",
    "\n",
    " \n",
    "\n",
    "<b>Example 1:</b>\n",
    "\n",
    "Input: s = \"the sky is blue\"\n",
    "Output: \"blue is sky the\"\n",
    "<b>Example 2:</b>\n",
    "\n",
    "Input: s = \"  hello world  \"\n",
    "Output: \"world hello\"\n",
    "Explanation: Your reversed string should not contain leading or trailing spaces.\n",
    "<b>Example 3:</b>\n",
    "\n",
    "Input: s = \"a good   example\"\n",
    "Output: \"example good a\"\n",
    "Explanation: You need to reduce multiple spaces between two words to a single space in the reversed string.\n",
    " \n",
    "\n",
    "<b>Constraints:</b>\n",
    "\n",
    "1 <= s.length <= 104\n",
    "s contains English letters (upper-case and lower-case), digits, and spaces ' '.\n",
    "There is at least one word in s.\n",
    " \n",
    "\n",
    "<b>Follow-up:</b> If the string data type is mutable in your language, can you solve it in-place with O(1) extra space?"
   ]
  },
  {
   "cell_type": "code",
   "execution_count": 18,
   "id": "7d27c532",
   "metadata": {},
   "outputs": [],
   "source": [
    "class Solution:\n",
    "    def reverseWords(self, s: str) -> str:\n",
    "        words = s.split(' ')\n",
    "        words =[i for i in words if i != '']\n",
    "        \n",
    "        l = 0\n",
    "        r = len(words)-1\n",
    "\n",
    "        while l < r:\n",
    "            words[l],words[r] = words[r],words[l]\n",
    "            l += 1\n",
    "            r -= 1\n",
    "        return ' '.join(words)\n",
    "            \n",
    "        "
   ]
  },
  {
   "cell_type": "code",
   "execution_count": 20,
   "id": "aaebb787",
   "metadata": {},
   "outputs": [
    {
     "data": {
      "text/plain": [
       "'blue is sky the'"
      ]
     },
     "execution_count": 20,
     "metadata": {},
     "output_type": "execute_result"
    }
   ],
   "source": [
    "que = Solution()\n",
    "que.reverseWords(\"the    sky    is    blue\")"
   ]
  }
 ],
 "metadata": {
  "kernelspec": {
   "display_name": "Python 3",
   "language": "python",
   "name": "python3"
  },
  "language_info": {
   "codemirror_mode": {
    "name": "ipython",
    "version": 3
   },
   "file_extension": ".py",
   "mimetype": "text/x-python",
   "name": "python",
   "nbconvert_exporter": "python",
   "pygments_lexer": "ipython3",
   "version": "3.10.4"
  }
 },
 "nbformat": 4,
 "nbformat_minor": 5
}
