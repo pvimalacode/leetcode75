{
 "cells": [
  {
   "cell_type": "markdown",
   "id": "c268dd67",
   "metadata": {},
   "source": [
    "#### 1431. Kids With the Greatest Number of Candies\n",
    "Solved\n",
    "Easy\n",
    "Topics\n",
    "premium lock icon\n",
    "Companies\n",
    "Hint\n",
    "There are n kids with candies. You are given an integer array candies, where each candies[i] represents the number of candies the ith kid has, and an integer extraCandies, denoting the number of extra candies that you have.\n",
    "\n",
    "Return a boolean array result of length n, where result[i] is true if, after giving the ith kid all the extraCandies, they will have the greatest number of candies among all the kids, or false otherwise.\n",
    "\n",
    "Note that multiple kids can have the greatest number of candies.\n",
    "\n",
    " "
   ]
  },
  {
   "cell_type": "markdown",
   "id": "96ef3cdd",
   "metadata": {},
   "source": [
    "Example 1:\n",
    "\n",
    "Input: candies = [2,3,5,1,3], extraCandies = 3\n",
    "Output: [true,true,true,false,true] \n",
    "Explanation: If you give all extraCandies to:\n",
    "- Kid 1, they will have 2 + 3 = 5 candies, which is the greatest among the kids.\n",
    "- Kid 2, they will have 3 + 3 = 6 candies, which is the greatest among the kids.\n",
    "- Kid 3, they will have 5 + 3 = 8 candies, which is the greatest among the kids.\n",
    "- Kid 4, they will have 1 + 3 = 4 candies, which is not the greatest among the kids.\n",
    "- Kid 5, they will have 3 + 3 = 6 candies, which is the greatest among the kids."
   ]
  },
  {
   "cell_type": "markdown",
   "id": "69817573",
   "metadata": {},
   "source": [
    "Example 2:\n",
    "\n",
    "Input: candies = [4,2,1,1,2], extraCandies = 1\n",
    "Output: [true,false,false,false,false] \n",
    "Explanation: There is only 1 extra candy.\n",
    "Kid 1 will always have the greatest number of candies, even if a different kid is given the extra candy."
   ]
  },
  {
   "cell_type": "markdown",
   "id": "e0f80bb4",
   "metadata": {},
   "source": [
    "Example 3:\n",
    "\n",
    "Input: candies = [12,1,12], extraCandies = 10\n",
    "Output: [true,false,true]"
   ]
  },
  {
   "cell_type": "markdown",
   "id": "9c3e1cc4",
   "metadata": {},
   "source": [
    "Constraints:\n",
    "\n",
    "n == candies.length\n",
    "2 <= n <= 100\n",
    "1 <= candies[i] <= 100\n",
    "1 <= extraCandies <= 50"
   ]
  },
  {
   "cell_type": "markdown",
   "id": "146ba694",
   "metadata": {},
   "source": [
    "https://leetcode.com/problems/kids-with-the-greatest-number-of-candies/description/?envType=study-plan-v2&envId=leetcode-75"
   ]
  },
  {
   "cell_type": "code",
   "execution_count": null,
   "id": "26eba663",
   "metadata": {},
   "outputs": [],
   "source": [
    "from typing import List\n",
    "class Solution:\n",
    "    def kidsWithCandies(self, candies: List[int], extraCandies: int) -> List[bool]:\n",
    "        #2n approach\n",
    "        mx = float('-inf')\n",
    "        for i in candies:\n",
    "            if i > mx:\n",
    "                mx = i\n",
    "        return [True if (extraCandies) + i >= mx else False for i in candies]       "
   ]
  },
  {
   "cell_type": "code",
   "execution_count": 10,
   "id": "f72b8f83",
   "metadata": {},
   "outputs": [
    {
     "data": {
      "text/plain": [
       "[True, False, True]"
      ]
     },
     "execution_count": 10,
     "metadata": {},
     "output_type": "execute_result"
    }
   ],
   "source": [
    "que = Solution()\n",
    "que.kidsWithCandies([12,1,12],10)"
   ]
  },
  {
   "cell_type": "code",
   "execution_count": null,
   "id": "76ba3a2a",
   "metadata": {},
   "outputs": [],
   "source": []
  }
 ],
 "metadata": {
  "kernelspec": {
   "display_name": "Python 3",
   "language": "python",
   "name": "python3"
  },
  "language_info": {
   "codemirror_mode": {
    "name": "ipython",
    "version": 3
   },
   "file_extension": ".py",
   "mimetype": "text/x-python",
   "name": "python",
   "nbconvert_exporter": "python",
   "pygments_lexer": "ipython3",
   "version": "3.10.4"
  }
 },
 "nbformat": 4,
 "nbformat_minor": 5
}
