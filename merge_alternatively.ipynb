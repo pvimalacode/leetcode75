{
 "cells": [
  {
   "cell_type": "markdown",
   "id": "61549c5f",
   "metadata": {},
   "source": [
    "https://leetcode.com/problems/merge-strings-alternately/?envType=study-plan-v2&envId=leetcode-75\n"
   ]
  },
  {
   "cell_type": "markdown",
   "id": "12086c4c",
   "metadata": {},
   "source": [
    "# 1768. Merge Strings Alternately\n",
    "\n",
    "**Difficulty:** Easy  \n",
    "**Topics:** —  \n",
    "**Companies:** Premium  \n",
    "\n",
    "---\n",
    "\n",
    "## Problem\n",
    "\n",
    "You are given two strings `word1` and `word2`. Merge the strings by **adding letters in alternating order**, starting with `word1`.  \n",
    "\n",
    "If one string is longer than the other, append the **remaining letters** to the end of the merged string.\n",
    "\n",
    "**Return the merged string.**\n",
    "\n",
    "---\n",
    "\n",
    "## Examples\n",
    "\n",
    "**Example 1**  \n",
    "**Input:**  \n",
    "```python\n",
    "word1 = \"abc\"\n",
    "word2 = \"pqr\"\n",
    "\n",
    "merged = \"apbqcr\"\n",
    "\n",
    "word1:  a   b   c\n",
    "word2:    p   q   r\n",
    "merged: a p b q c r\n",
    "\n",
    "word1 = \"ab\"\n",
    "word2 = \"pqrs\"\n",
    "\"apbqrs\"\n",
    "\n",
    "word1:  a   b\n",
    "word2:    p   q   r   s\n",
    "merged: a p b q r   s\n",
    "\n",
    "\n",
    "Constraints\n",
    "\n",
    "1 <= word1.length, word2.length <= 100\n",
    "\n",
    "word1 and word2 consist of lowercase English letters.\n"
   ]
  },
  {
   "cell_type": "code",
   "execution_count": null,
   "id": "4a3d350a",
   "metadata": {},
   "outputs": [],
   "source": [
    "class Solution:\n",
    "    def mergeAlternately(self, word1: str, word2: str) -> str:\n",
    "        \n",
    "\n",
    "        i =0\n",
    "        j =0\n",
    "        merged = ''\n",
    "        \n",
    "        while i < len(word1) and j < len(word2):\n",
    "            merged += word1[i] +word2[j]\n",
    "            i += 1\n",
    "            j += 1\n",
    "\n",
    "       \n",
    "        return merged+word1[i:]+word2[j:]\n",
    "        "
   ]
  },
  {
   "cell_type": "code",
   "execution_count": 5,
   "id": "d59b7aa6",
   "metadata": {},
   "outputs": [
    {
     "data": {
      "text/plain": [
       "'apbqcr'"
      ]
     },
     "execution_count": 5,
     "metadata": {},
     "output_type": "execute_result"
    }
   ],
   "source": [
    "answer = Solution()\n",
    "answer.mergeAlternately(\"abc\",\"pqr\")"
   ]
  }
 ],
 "metadata": {
  "kernelspec": {
   "display_name": "Python 3",
   "language": "python",
   "name": "python3"
  },
  "language_info": {
   "codemirror_mode": {
    "name": "ipython",
    "version": 3
   },
   "file_extension": ".py",
   "mimetype": "text/x-python",
   "name": "python",
   "nbconvert_exporter": "python",
   "pygments_lexer": "ipython3",
   "version": "3.10.4"
  }
 },
 "nbformat": 4,
 "nbformat_minor": 5
}
